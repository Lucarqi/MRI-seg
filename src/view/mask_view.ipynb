{
 "cells": [
  {
   "cell_type": "code",
   "execution_count": 1,
   "metadata": {},
   "outputs": [
    {
     "name": "stdout",
     "output_type": "stream",
     "text": [
      "(256, 256, 12)\n",
      "float64\n",
      "600.0\n",
      "0.0\n"
     ]
    }
   ],
   "source": [
    "import matplotlib.pyplot as plt\n",
    "import numpy as np\n",
    "import nibabel as nib\n",
    "\n",
    "#mask_dir = 'datasets/train/LGE_label/patient1_LGE_manual.nii.gz'\n",
    "mask_dir = '../datasets/train/all_label/patient3_C0_manual.nii.gz'\n",
    "mask = nib.load(mask_dir)\n",
    "mask = mask.get_fdata()\n",
    "print(mask.shape)\n",
    "print(mask.dtype)\n",
    "print(mask.max())\n",
    "print(mask.min())"
   ]
  },
  {
   "cell_type": "code",
   "execution_count": 2,
   "metadata": {},
   "outputs": [
    {
     "name": "stdout",
     "output_type": "stream",
     "text": [
      "(256, 256)\n",
      "600.0\n"
     ]
    },
    {
     "data": {
      "text/plain": [
       "<matplotlib.image.AxesImage at 0x7f1dd2c79550>"
      ]
     },
     "execution_count": 2,
     "metadata": {},
     "output_type": "execute_result"
    },
    {
     "data": {
      "image/png": "[encoded data removed]",
      "text/plain": [
       "<Figure size 432x288 with 1 Axes>"
      ]
     },
     "metadata": {
      "needs_background": "light"
     },
     "output_type": "display_data"
    }
   ],
   "source": [
    "# 读取slice\n",
    "slices = mask[:,:,10]\n",
    "print(slices.shape)\n",
    "print(slices.max())\n",
    "plt.imshow(slices)"
   ]
  },
  {
   "cell_type": "code",
   "execution_count": 3,
   "metadata": {},
   "outputs": [
    {
     "name": "stdout",
     "output_type": "stream",
     "text": [
      "{0.0, 600.0, 500.0, 200.0}\n"
     ]
    }
   ],
   "source": [
    "# 看标签具体的值\n",
    "labels = slices.flatten().tolist()\n",
    "labels = set(labels)\n",
    "print(labels)"
   ]
  },
  {
   "cell_type": "markdown",
   "metadata": {},
   "source": [
    "0.0 -- 背景  \n",
    "200.0 -- 心肌层  \n",
    "500.0 -- LV左心室  \n",
    "600.0 -- RV右心室  "
   ]
  },
  {
   "cell_type": "code",
   "execution_count": 11,
   "metadata": {},
   "outputs": [],
   "source": [
    "# 实现mask的one-hot编码\n",
    "label = [[0.0],[200.0],[500.0],[600.0]]\n",
    "def mask2onehot(mask, label):\n",
    "    '''\n",
    "    input [H W]\n",
    "    output [H W 4] for 4 classes {backgroud LV myo RV}\n",
    "    '''\n",
    "    # expand dims to [H W 1]\n",
    "    mask = np.expand_dims(mask, axis=2)\n",
    "    seg_map = []\n",
    "    for i in label:\n",
    "        equality = np.equal(i, mask)\n",
    "        class_map = np.all(equality, axis=-1)\n",
    "        seg_map.append(class_map)\n",
    "    seg_map = np.stack(seg_map, axis=-1).astype(np.float32)\n",
    "    return seg_map\n",
    "\n",
    "# 实现one-hot的mask编码\n",
    "def onehot2mask(onehot, label):\n",
    "    '''\n",
    "    input [4 H W]\n",
    "    output [H W]\n",
    "    '''\n",
    "    x = np.argmax(onehot, axis=-1)\n",
    "    color_codes = np.array(label)\n",
    "    x = np.float32(color_codes[x.astype(np.uint8)])\n",
    "    x = x.squeeze()\n",
    "    return x\n"
   ]
  },
  {
   "cell_type": "code",
   "execution_count": 13,
   "metadata": {},
   "outputs": [
    {
     "name": "stdout",
     "output_type": "stream",
     "text": [
      "(4, 256, 256)\n",
      "(256, 256, 4)\n",
      "True\n",
      "(256, 256, 4)\n",
      "(256, 256)\n",
      "True\n",
      "{0.0, 600.0, 500.0, 200.0}\n"
     ]
    },
    {
     "data": {
      "text/plain": [
       "<matplotlib.image.AxesImage at 0x7f1dcf7e9970>"
      ]
     },
     "execution_count": 13,
     "metadata": {},
     "output_type": "execute_result"
    },
    {
     "data": {
      "image/png": "[encoded data removed]",
      "text/plain": [
       "<Figure size 432x288 with 1 Axes>"
      ]
     },
     "metadata": {
      "needs_background": "light"
     },
     "output_type": "display_data"
    }
   ],
   "source": [
    "one_hot = mask2onehot(slices,label)\n",
    "one_hot1 = np.reshape(one_hot,(4,256,256))\n",
    "one_hot2 = np.reshape(one_hot1,(256,256,4))\n",
    "print((one_hot2==one_hot).all())\n",
    "print(one_hot.shape)\n",
    "mask = onehot2mask(one_hot,label)\n",
    "print(mask.shape)\n",
    "print((mask == slices).all())\n",
    "sets = set(mask.flatten().tolist())\n",
    "print(sets)\n",
    "plt.imshow(mask)"
   ]
  }
 ],
 "metadata": {
  "kernelspec": {
   "display_name": "Python 3.8.12 ('d2l')",
   "language": "python",
   "name": "python3"
  },
  "language_info": {
   "codemirror_mode": {
    "name": "ipython",
    "version": 3
   },
   "file_extension": ".py",
   "mimetype": "text/x-python",
   "name": "python",
   "nbconvert_exporter": "python",
   "pygments_lexer": "ipython3",
   "version": "3.8.13"
  },
  "orig_nbformat": 4,
  "vscode": {
   "interpreter": {
    "hash": "94355fb3ca2c023cd20685028b68c25ab54b218726b4fe441f3362a985e6f225"
   }
  }
 },
 "nbformat": 4,
 "nbformat_minor": 2
}
