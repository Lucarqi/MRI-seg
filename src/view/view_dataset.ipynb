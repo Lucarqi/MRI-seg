{
 "cells": [
  {
   "cell_type": "code",
   "execution_count": null,
   "metadata": {},
   "outputs": [],
   "source": [
    "# 数据增强\n",
    "import SimpleITK as sitk\n",
    "import matplotlib.pyplot as plt\n",
    "import numpy as np\n",
    "from utils import normal_normal\n",
    "import torch\n",
    "# minmaxscaler\n",
    "def normalize_minmax(x):\n",
    "    out = (x - np.min(x)) / (np.max(x) - np.min(x))\n",
    "    return out\n",
    "# 对一个slice标准化\n",
    "def normalize_normal(x):\n",
    "    out = x - np.mean(x,axis=(1,2),dtype=np.float32,keepdims=True)\n",
    "    out = out / np.std(x,axis=(1,2),dtype=np.float32,keepdims=True)\n",
    "    return out\n",
    "\n",
    "image = sitk.ReadImage('datasets/train/all_image/patient2_LGE.nii.gz',outputPixelType=sitk.sitkFloat32)\n",
    "ori = sitk.GetArrayFromImage(image)\n",
    "nor1 = normalize_normal(ori)*0.5 + 0.5\n",
    "nor2 = normal_normal(torch.tensor(ori[10]).unsqueeze(dim=0)).numpy().squeeze(axis=0)\n",
    "minmax = normalize_minmax(ori[10])\n",
    "print(nor1[10].mean())\n",
    "print(nor2.mean())\n",
    "print(np.sum(nor1[10] > 5))\n",
    "plt.figure(figsize=(15,10))\n",
    "plt.subplot(1,3,1)\n",
    "plt.imshow(ori[10],cmap='gray')\n",
    "plt.subplot(1,3,2)\n",
    "plt.imshow(nor1[10],cmap='gray')\n",
    "plt.subplot(1,3,3)\n",
    "plt.imshow(nor2,cmap='gray')"
   ]
  },
  {
   "cell_type": "code",
   "execution_count": 3,
   "metadata": {},
   "outputs": [
    {
     "name": "stdout",
     "output_type": "stream",
     "text": [
      "545\n",
      "77\n"
     ]
    }
   ],
   "source": [
    "import numpy as np\n",
    "from datasets import load_image\n",
    "\n",
    "c0 = load_image(['C0LGE','T2LGE'])['image']\n",
    "lge = load_image(['LGE'])['image']\n",
    "print(len(c0))\n",
    "print(len(lge))"
   ]
  }
 ],
 "metadata": {
  "kernelspec": {
   "display_name": "Python 3.8.12 ('d2l')",
   "language": "python",
   "name": "python3"
  },
  "language_info": {
   "codemirror_mode": {
    "name": "ipython",
    "version": 3
   },
   "file_extension": ".py",
   "mimetype": "text/x-python",
   "name": "python",
   "nbconvert_exporter": "python",
   "pygments_lexer": "ipython3",
   "version": "3.8.13"
  },
  "orig_nbformat": 4,
  "vscode": {
   "interpreter": {
    "hash": "94355fb3ca2c023cd20685028b68c25ab54b218726b4fe441f3362a985e6f225"
   }
  }
 },
 "nbformat": 4,
 "nbformat_minor": 2
}
