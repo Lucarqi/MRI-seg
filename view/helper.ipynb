{
 "cells": [
  {
   "cell_type": "code",
   "execution_count": 10,
   "metadata": {},
   "outputs": [
    {
     "name": "stdout",
     "output_type": "stream",
     "text": [
      "C0\n"
     ]
    }
   ],
   "source": [
    "# 测试re \n",
    "import re\n",
    "\n",
    "sentence = 'patient1_C0.nii.gz'\n",
    "pattern = re.compile('patient([\\d]*)_([\\w]*).nii.gz')\n",
    "groups = re.search(pattern,sentence)\n",
    "print(groups.group(2))"
   ]
  },
  {
   "cell_type": "code",
   "execution_count": 5,
   "metadata": {},
   "outputs": [
    {
     "name": "stdout",
     "output_type": "stream",
     "text": [
      "['patient1_C0_1.nii', 'patient1_C0_2.nii', 'patient1_C0_3.nii', 'patient1_C0_4.nii', 'patient1_C0_5.nii', 'patient1_C0_6.nii', 'patient1_C0_7.nii', 'patient1_C0_8.nii', 'patient1_C0_9.nii', 'patient1_C0_10.nii', 'patient1_C0_11.nii', 'patient1_C0_12.nii', 'patient2_C0_1.nii', 'patient2_C0_2.nii', 'patient2_C0_3.nii', 'patient2_C0_4.nii', 'patient2_C0_5.nii', 'patient2_C0_6.nii', 'patient2_C0_7.nii', 'patient2_C0_8.nii', 'patient2_C0_9.nii', 'patient2_C0_10.nii', 'patient2_C0_11.nii', 'patient2_C0_12.nii', 'patient3_C0_1.nii', 'patient3_C0_2.nii', 'patient3_C0_3.nii', 'patient3_C0_4.nii', 'patient3_C0_5.nii', 'patient3_C0_6.nii', 'patient3_C0_7.nii', 'patient3_C0_8.nii', 'patient3_C0_9.nii', 'patient3_C0_10.nii', 'patient3_C0_11.nii', 'patient3_C0_12.nii', 'patient4_C0_1.nii', 'patient4_C0_2.nii', 'patient4_C0_3.nii', 'patient4_C0_4.nii', 'patient4_C0_5.nii', 'patient4_C0_6.nii', 'patient4_C0_7.nii', 'patient4_C0_8.nii', 'patient4_C0_9.nii', 'patient4_C0_10.nii', 'patient5_C0_1.nii', 'patient5_C0_2.nii', 'patient5_C0_3.nii', 'patient5_C0_4.nii', 'patient5_C0_5.nii', 'patient5_C0_6.nii', 'patient5_C0_7.nii', 'patient5_C0_8.nii', 'patient5_C0_9.nii', 'patient5_C0_10.nii', 'patient5_C0_11.nii', 'patient5_C0_12.nii', 'patient6_C0_1.nii', 'patient6_C0_2.nii', 'patient6_C0_3.nii', 'patient6_C0_4.nii', 'patient6_C0_5.nii', 'patient6_C0_6.nii', 'patient6_C0_7.nii', 'patient6_C0_8.nii', 'patient7_C0_1.nii', 'patient7_C0_2.nii', 'patient7_C0_3.nii', 'patient7_C0_4.nii', 'patient7_C0_5.nii', 'patient7_C0_6.nii', 'patient7_C0_7.nii', 'patient7_C0_8.nii', 'patient7_C0_9.nii', 'patient7_C0_10.nii', 'patient7_C0_11.nii', 'patient7_C0_12.nii', 'patient8_C0_1.nii', 'patient8_C0_2.nii', 'patient8_C0_3.nii', 'patient8_C0_4.nii', 'patient8_C0_5.nii', 'patient8_C0_6.nii', 'patient8_C0_7.nii', 'patient8_C0_8.nii', 'patient8_C0_9.nii', 'patient8_C0_10.nii', 'patient8_C0_11.nii', 'patient8_C0_12.nii', 'patient9_C0_1.nii', 'patient9_C0_2.nii', 'patient9_C0_3.nii', 'patient9_C0_4.nii', 'patient9_C0_5.nii', 'patient9_C0_6.nii', 'patient9_C0_7.nii', 'patient9_C0_8.nii', 'patient9_C0_9.nii', 'patient9_C0_10.nii', 'patient9_C0_11.nii', 'patient9_C0_12.nii', 'patient10_C0_1.nii', 'patient10_C0_2.nii', 'patient10_C0_3.nii', 'patient10_C0_4.nii', 'patient10_C0_5.nii', 'patient10_C0_6.nii', 'patient10_C0_7.nii', 'patient10_C0_8.nii', 'patient10_C0_9.nii', 'patient10_C0_10.nii', 'patient11_C0_1.nii', 'patient11_C0_2.nii', 'patient11_C0_3.nii', 'patient11_C0_4.nii', 'patient11_C0_5.nii', 'patient11_C0_6.nii', 'patient11_C0_7.nii', 'patient11_C0_8.nii', 'patient11_C0_9.nii', 'patient11_C0_10.nii', 'patient11_C0_11.nii', 'patient11_C0_12.nii', 'patient12_C0_1.nii', 'patient12_C0_2.nii', 'patient12_C0_3.nii', 'patient12_C0_4.nii', 'patient12_C0_5.nii', 'patient12_C0_6.nii', 'patient12_C0_7.nii', 'patient12_C0_8.nii', 'patient12_C0_9.nii', 'patient12_C0_10.nii', 'patient12_C0_11.nii', 'patient12_C0_12.nii', 'patient12_C0_13.nii', 'patient12_C0_14.nii', 'patient13_C0_1.nii', 'patient13_C0_2.nii', 'patient13_C0_3.nii', 'patient13_C0_4.nii', 'patient13_C0_5.nii', 'patient13_C0_6.nii', 'patient13_C0_7.nii', 'patient13_C0_8.nii', 'patient13_C0_9.nii', 'patient13_C0_10.nii', 'patient14_C0_1.nii', 'patient14_C0_2.nii', 'patient14_C0_3.nii', 'patient14_C0_4.nii', 'patient14_C0_5.nii', 'patient14_C0_6.nii', 'patient14_C0_7.nii', 'patient14_C0_8.nii', 'patient14_C0_9.nii', 'patient14_C0_10.nii', 'patient14_C0_11.nii', 'patient14_C0_12.nii', 'patient15_C0_1.nii', 'patient15_C0_2.nii', 'patient15_C0_3.nii', 'patient15_C0_4.nii', 'patient15_C0_5.nii', 'patient15_C0_6.nii', 'patient15_C0_7.nii', 'patient15_C0_8.nii', 'patient15_C0_9.nii', 'patient15_C0_10.nii', 'patient16_C0_1.nii', 'patient16_C0_2.nii', 'patient16_C0_3.nii', 'patient16_C0_4.nii', 'patient16_C0_5.nii', 'patient16_C0_6.nii', 'patient16_C0_7.nii', 'patient16_C0_8.nii', 'patient16_C0_9.nii', 'patient16_C0_10.nii', 'patient16_C0_11.nii', 'patient16_C0_12.nii', 'patient17_C0_1.nii', 'patient17_C0_2.nii', 'patient17_C0_3.nii', 'patient17_C0_4.nii', 'patient17_C0_5.nii', 'patient17_C0_6.nii', 'patient17_C0_7.nii', 'patient17_C0_8.nii', 'patient17_C0_9.nii', 'patient17_C0_10.nii', 'patient18_C0_1.nii', 'patient18_C0_2.nii', 'patient18_C0_3.nii', 'patient18_C0_4.nii', 'patient18_C0_5.nii', 'patient18_C0_6.nii', 'patient18_C0_7.nii', 'patient18_C0_8.nii', 'patient18_C0_9.nii', 'patient18_C0_10.nii', 'patient18_C0_11.nii', 'patient18_C0_12.nii', 'patient19_C0_1.nii', 'patient19_C0_2.nii', 'patient19_C0_3.nii', 'patient19_C0_4.nii', 'patient19_C0_5.nii', 'patient19_C0_6.nii', 'patient19_C0_7.nii', 'patient19_C0_8.nii', 'patient19_C0_9.nii', 'patient19_C0_10.nii', 'patient19_C0_11.nii', 'patient19_C0_12.nii', 'patient20_C0_1.nii', 'patient20_C0_2.nii', 'patient20_C0_3.nii', 'patient20_C0_4.nii', 'patient20_C0_5.nii', 'patient20_C0_6.nii', 'patient20_C0_7.nii', 'patient20_C0_8.nii', 'patient20_C0_9.nii', 'patient20_C0_10.nii', 'patient20_C0_11.nii', 'patient20_C0_12.nii', 'patient20_C0_13.nii', 'patient20_C0_14.nii', 'patient21_C0_1.nii', 'patient21_C0_2.nii', 'patient21_C0_3.nii', 'patient21_C0_4.nii', 'patient21_C0_5.nii', 'patient21_C0_6.nii', 'patient21_C0_7.nii', 'patient21_C0_8.nii', 'patient21_C0_9.nii', 'patient21_C0_10.nii', 'patient21_C0_11.nii', 'patient21_C0_12.nii', 'patient21_C0_13.nii', 'patient21_C0_14.nii', 'patient22_C0_1.nii', 'patient22_C0_2.nii', 'patient22_C0_3.nii', 'patient22_C0_4.nii', 'patient22_C0_5.nii', 'patient22_C0_6.nii', 'patient22_C0_7.nii', 'patient22_C0_8.nii', 'patient22_C0_9.nii', 'patient22_C0_10.nii', 'patient23_C0_1.nii', 'patient23_C0_2.nii', 'patient23_C0_3.nii', 'patient23_C0_4.nii', 'patient23_C0_5.nii', 'patient23_C0_6.nii', 'patient23_C0_7.nii', 'patient23_C0_8.nii', 'patient23_C0_9.nii', 'patient23_C0_10.nii', 'patient24_C0_1.nii', 'patient24_C0_2.nii', 'patient24_C0_3.nii', 'patient24_C0_4.nii', 'patient24_C0_5.nii', 'patient24_C0_6.nii', 'patient24_C0_7.nii', 'patient24_C0_8.nii', 'patient24_C0_9.nii', 'patient24_C0_10.nii', 'patient24_C0_11.nii', 'patient24_C0_12.nii', 'patient25_C0_1.nii', 'patient25_C0_2.nii', 'patient25_C0_3.nii', 'patient25_C0_4.nii', 'patient25_C0_5.nii', 'patient25_C0_6.nii', 'patient25_C0_7.nii', 'patient25_C0_8.nii', 'patient26_C0_1.nii', 'patient26_C0_2.nii', 'patient26_C0_3.nii', 'patient26_C0_4.nii', 'patient26_C0_5.nii', 'patient26_C0_6.nii', 'patient26_C0_7.nii', 'patient26_C0_8.nii', 'patient26_C0_9.nii', 'patient26_C0_10.nii', 'patient26_C0_11.nii', 'patient26_C0_12.nii', 'patient27_C0_1.nii', 'patient27_C0_2.nii', 'patient27_C0_3.nii', 'patient27_C0_4.nii', 'patient27_C0_5.nii', 'patient27_C0_6.nii', 'patient27_C0_7.nii', 'patient27_C0_8.nii', 'patient27_C0_9.nii', 'patient27_C0_10.nii', 'patient28_C0_1.nii', 'patient28_C0_2.nii', 'patient28_C0_3.nii', 'patient28_C0_4.nii', 'patient28_C0_5.nii', 'patient28_C0_6.nii', 'patient28_C0_7.nii', 'patient28_C0_8.nii', 'patient28_C0_9.nii', 'patient28_C0_10.nii', 'patient28_C0_11.nii', 'patient28_C0_12.nii', 'patient29_C0_1.nii', 'patient29_C0_2.nii', 'patient29_C0_3.nii', 'patient29_C0_4.nii', 'patient29_C0_5.nii', 'patient29_C0_6.nii', 'patient29_C0_7.nii', 'patient29_C0_8.nii', 'patient29_C0_9.nii', 'patient30_C0_1.nii', 'patient30_C0_2.nii', 'patient30_C0_3.nii', 'patient30_C0_4.nii', 'patient30_C0_5.nii', 'patient30_C0_6.nii', 'patient30_C0_7.nii', 'patient30_C0_8.nii', 'patient30_C0_9.nii', 'patient30_C0_10.nii', 'patient30_C0_11.nii', 'patient30_C0_12.nii', 'patient30_C0_13.nii', 'patient30_C0_14.nii', 'patient31_C0_1.nii', 'patient31_C0_2.nii', 'patient31_C0_3.nii', 'patient31_C0_4.nii', 'patient31_C0_5.nii', 'patient31_C0_6.nii', 'patient31_C0_7.nii', 'patient31_C0_8.nii', 'patient31_C0_9.nii', 'patient31_C0_10.nii', 'patient32_C0_1.nii', 'patient32_C0_2.nii', 'patient32_C0_3.nii', 'patient32_C0_4.nii', 'patient32_C0_5.nii', 'patient32_C0_6.nii', 'patient32_C0_7.nii', 'patient32_C0_8.nii', 'patient32_C0_9.nii', 'patient32_C0_10.nii', 'patient33_C0_1.nii', 'patient33_C0_2.nii', 'patient33_C0_3.nii', 'patient33_C0_4.nii', 'patient33_C0_5.nii', 'patient33_C0_6.nii', 'patient33_C0_7.nii', 'patient33_C0_8.nii', 'patient33_C0_9.nii', 'patient33_C0_10.nii', 'patient34_C0_1.nii', 'patient34_C0_2.nii', 'patient34_C0_3.nii', 'patient34_C0_4.nii', 'patient34_C0_5.nii', 'patient34_C0_6.nii', 'patient34_C0_7.nii', 'patient34_C0_8.nii', 'patient34_C0_9.nii', 'patient34_C0_10.nii', 'patient35_C0_1.nii', 'patient35_C0_2.nii', 'patient35_C0_3.nii', 'patient35_C0_4.nii', 'patient35_C0_5.nii', 'patient35_C0_6.nii', 'patient35_C0_7.nii', 'patient35_C0_8.nii', 'patient35_C0_9.nii', 'patient35_C0_10.nii', 'patient36_C0_1.nii', 'patient36_C0_2.nii', 'patient36_C0_3.nii', 'patient36_C0_4.nii', 'patient36_C0_5.nii', 'patient36_C0_6.nii', 'patient36_C0_7.nii', 'patient36_C0_8.nii', 'patient36_C0_9.nii', 'patient36_C0_10.nii', 'patient37_C0_1.nii', 'patient37_C0_2.nii', 'patient37_C0_3.nii', 'patient37_C0_4.nii', 'patient37_C0_5.nii', 'patient37_C0_6.nii', 'patient37_C0_7.nii', 'patient37_C0_8.nii', 'patient37_C0_9.nii', 'patient37_C0_10.nii', 'patient37_C0_11.nii', 'patient37_C0_12.nii', 'patient37_C0_13.nii', 'patient37_C0_14.nii', 'patient38_C0_1.nii', 'patient38_C0_2.nii', 'patient38_C0_3.nii', 'patient38_C0_4.nii', 'patient38_C0_5.nii', 'patient38_C0_6.nii', 'patient38_C0_7.nii', 'patient38_C0_8.nii', 'patient38_C0_9.nii', 'patient38_C0_10.nii', 'patient38_C0_11.nii', 'patient38_C0_12.nii', 'patient39_C0_1.nii', 'patient39_C0_2.nii', 'patient39_C0_3.nii', 'patient39_C0_4.nii', 'patient39_C0_5.nii', 'patient39_C0_6.nii', 'patient39_C0_7.nii', 'patient39_C0_8.nii', 'patient39_C0_9.nii', 'patient39_C0_10.nii', 'patient39_C0_11.nii', 'patient39_C0_12.nii', 'patient40_C0_1.nii', 'patient40_C0_2.nii', 'patient40_C0_3.nii', 'patient40_C0_4.nii', 'patient40_C0_5.nii', 'patient40_C0_6.nii', 'patient40_C0_7.nii', 'patient40_C0_8.nii', 'patient40_C0_9.nii', 'patient40_C0_10.nii', 'patient40_C0_11.nii', 'patient40_C0_12.nii', 'patient40_C0_13.nii', 'patient40_C0_14.nii', 'patient41_C0_1.nii', 'patient41_C0_2.nii', 'patient41_C0_3.nii', 'patient41_C0_4.nii', 'patient41_C0_5.nii', 'patient41_C0_6.nii', 'patient41_C0_7.nii', 'patient41_C0_8.nii', 'patient41_C0_9.nii', 'patient41_C0_10.nii', 'patient42_C0_1.nii', 'patient42_C0_2.nii', 'patient42_C0_3.nii', 'patient42_C0_4.nii', 'patient42_C0_5.nii', 'patient42_C0_6.nii', 'patient42_C0_7.nii', 'patient42_C0_8.nii', 'patient42_C0_9.nii', 'patient42_C0_10.nii', 'patient42_C0_11.nii', 'patient42_C0_12.nii', 'patient43_C0_1.nii', 'patient43_C0_2.nii', 'patient43_C0_3.nii', 'patient43_C0_4.nii', 'patient43_C0_5.nii', 'patient43_C0_6.nii', 'patient43_C0_7.nii', 'patient43_C0_8.nii', 'patient43_C0_9.nii', 'patient43_C0_10.nii', 'patient43_C0_11.nii', 'patient43_C0_12.nii', 'patient44_C0_1.nii', 'patient44_C0_2.nii', 'patient44_C0_3.nii', 'patient44_C0_4.nii', 'patient44_C0_5.nii', 'patient44_C0_6.nii', 'patient44_C0_7.nii', 'patient44_C0_8.nii', 'patient44_C0_9.nii', 'patient44_C0_10.nii', 'patient44_C0_11.nii', 'patient44_C0_12.nii', 'patient45_C0_1.nii', 'patient45_C0_2.nii', 'patient45_C0_3.nii', 'patient45_C0_4.nii', 'patient45_C0_5.nii', 'patient45_C0_6.nii', 'patient45_C0_7.nii', 'patient45_C0_8.nii', 'patient45_C0_9.nii', 'patient45_C0_10.nii']\n"
     ]
    }
   ],
   "source": [
    "import os\n",
    "import re\n",
    "data_dir = '../datasets/train/fake_lge'\n",
    "filename = os.listdir(data_dir)\n",
    "#filename.sort(key=lambda x:int(x.split('_')[0][7:]))\n",
    "filename.sort(key=lambda x:(int(re.split(r'_|\\.',x)[0][7:]),int(re.split(r'_|\\.',x)[2])))\n",
    "print(filename)"
   ]
  }
 ],
 "metadata": {
  "kernelspec": {
   "display_name": "Python 3.8.12 ('d2l')",
   "language": "python",
   "name": "python3"
  },
  "language_info": {
   "codemirror_mode": {
    "name": "ipython",
    "version": 3
   },
   "file_extension": ".py",
   "mimetype": "text/x-python",
   "name": "python",
   "nbconvert_exporter": "python",
   "pygments_lexer": "ipython3",
   "version": "3.8.12"
  },
  "orig_nbformat": 4,
  "vscode": {
   "interpreter": {
    "hash": "94355fb3ca2c023cd20685028b68c25ab54b218726b4fe441f3362a985e6f225"
   }
  }
 },
 "nbformat": 4,
 "nbformat_minor": 2
}
