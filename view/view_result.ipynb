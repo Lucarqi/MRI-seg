{
 "cells": [
  {
   "cell_type": "code",
   "execution_count": null,
   "metadata": {},
   "outputs": [],
   "source": [
    "# show loss \n",
    "import matplotlib.pyplot as plt\n",
    "import pandas as pd\n",
    "\n",
    "loss = pd.read_csv('output/cyclegan/loss.csv')\n",
    "x = loss['epoch'].tolist()\n",
    "\n",
    "plt.figure(figsize=(15,10))\n",
    "for i in range(0,5):\n",
    "    label = loss.columns.tolist()[i+1]\n",
    "    loss_ = loss[label].tolist()\n",
    "    axis = plt.subplot(2,3,i+1)\n",
    "    axis.set_xlabel('epoch')\n",
    "    axis.set_ylabel(label)\n",
    "    axis.plot(x,loss_)\n",
    "plt.show()"
   ]
  }
 ],
 "metadata": {
  "kernelspec": {
   "display_name": "Python 3.8.12 ('d2l')",
   "language": "python",
   "name": "python3"
  },
  "language_info": {
   "codemirror_mode": {
    "name": "ipython",
    "version": 3
   },
   "file_extension": ".py",
   "mimetype": "text/x-python",
   "name": "python",
   "nbconvert_exporter": "python",
   "pygments_lexer": "ipython3",
   "version": "3.8.13"
  },
  "orig_nbformat": 4,
  "vscode": {
   "interpreter": {
    "hash": "94355fb3ca2c023cd20685028b68c25ab54b218726b4fe441f3362a985e6f225"
   }
  }
 },
 "nbformat": 4,
 "nbformat_minor": 2
}
