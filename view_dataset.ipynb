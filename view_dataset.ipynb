{
 "cells": [
  {
   "cell_type": "code",
   "execution_count": null,
   "metadata": {},
   "outputs": [],
   "source": [
    "import SimpleITK as sitk\n",
    "itklab = sitk.ReadImage('datasets/train/all_label/patient1_C0_manual.nii.gz')\n",
    "nplab1 = sitk.GetArrayFromImage(itklab)\n",
    "nplab = (nplab1 == 200) * 1 + (nplab1 == 500) * 2 + (nplab1 == 600) * 3\n",
    "\n",
    "x = nplab1\n",
    "x[x==200] = 1\n",
    "x[x==500] = 2\n",
    "x[x==600] = 3\n",
    "\n",
    "print((x==nplab).all())"
   ]
  },
  {
   "cell_type": "code",
   "execution_count": 7,
   "metadata": {},
   "outputs": [
    {
     "name": "stdout",
     "output_type": "stream",
     "text": [
      "['patient6_LGE.nii.gz', 'patient7_LGE.nii.gz', 'patient8_LGE.nii.gz', 'patient9_LGE.nii.gz', 'patient10_LGE.nii.gz', 'patient11_LGE.nii.gz', 'patient12_LGE.nii.gz', 'patient13_LGE.nii.gz', 'patient14_LGE.nii.gz', 'patient15_LGE.nii.gz', 'patient16_LGE.nii.gz', 'patient17_LGE.nii.gz', 'patient18_LGE.nii.gz', 'patient19_LGE.nii.gz', 'patient20_LGE.nii.gz', 'patient21_LGE.nii.gz', 'patient22_LGE.nii.gz', 'patient23_LGE.nii.gz', 'patient24_LGE.nii.gz', 'patient25_LGE.nii.gz', 'patient26_LGE.nii.gz', 'patient27_LGE.nii.gz', 'patient28_LGE.nii.gz', 'patient29_LGE.nii.gz', 'patient30_LGE.nii.gz', 'patient31_LGE.nii.gz', 'patient32_LGE.nii.gz', 'patient33_LGE.nii.gz', 'patient34_LGE.nii.gz', 'patient35_LGE.nii.gz', 'patient36_LGE.nii.gz', 'patient37_LGE.nii.gz', 'patient38_LGE.nii.gz', 'patient39_LGE.nii.gz', 'patient40_LGE.nii.gz', 'patient41_LGE.nii.gz', 'patient42_LGE.nii.gz', 'patient43_LGE.nii.gz', 'patient44_LGE.nii.gz', 'patient45_LGE.nii.gz']\n"
     ]
    }
   ],
   "source": [
    "import os\n",
    "import re\n",
    "filename = os.listdir('datasets/train/all_image')\n",
    "filename = list(filter(lambda x: re.search('LGE',x) is not None,filename))\n",
    "filename = list(filter(lambda x: int(x.split('_')[0][7:]) > 5, filename))\n",
    "filename.sort(key=lambda x:int(x.split('_')[0][7:]))\n",
    "print(filename)"
   ]
  },
  {
   "cell_type": "code",
   "execution_count": 2,
   "metadata": {},
   "outputs": [
    {
     "name": "stdout",
     "output_type": "stream",
     "text": [
      "(512, 512)\n"
     ]
    }
   ],
   "source": [
    "import SimpleITK as sitk\n",
    "image = sitk.ReadImage('datasets/train/all_image/patient10_LGE.nii.gz')\n",
    "image = sitk.GetArrayFromImage(image)\n",
    "print(image.shape)"
   ]
  },
  {
   "cell_type": "code",
   "execution_count": 20,
   "metadata": {},
   "outputs": [
    {
     "name": "stdout",
     "output_type": "stream",
     "text": [
      "(40, 4)\n",
      "[0.99384892 0.70753568 0.8242739  0.73451335]\n"
     ]
    }
   ],
   "source": [
    "import numpy as np\n",
    "a = np.loadtxt('result.txt',delimiter=',')\n",
    "print(a.shape)\n",
    "mean = np.mean(a,axis=0)\n",
    "print(mean)"
   ]
  }
 ],
 "metadata": {
  "kernelspec": {
   "display_name": "Python 3.8.12 ('d2l')",
   "language": "python",
   "name": "python3"
  },
  "language_info": {
   "codemirror_mode": {
    "name": "ipython",
    "version": 3
   },
   "file_extension": ".py",
   "mimetype": "text/x-python",
   "name": "python",
   "nbconvert_exporter": "python",
   "pygments_lexer": "ipython3",
   "version": "3.8.13"
  },
  "orig_nbformat": 4,
  "vscode": {
   "interpreter": {
    "hash": "94355fb3ca2c023cd20685028b68c25ab54b218726b4fe441f3362a985e6f225"
   }
  }
 },
 "nbformat": 4,
 "nbformat_minor": 2
}
