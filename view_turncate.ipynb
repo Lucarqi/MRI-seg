{
 "cells": [
  {
   "cell_type": "code",
   "execution_count": 2,
   "metadata": {},
   "outputs": [
    {
     "ename": "IndexError",
     "evalue": "too many indices for array: array is 2-dimensional, but 3 were indexed",
     "output_type": "error",
     "traceback": [
      "\u001b[0;31m---------------------------------------------------------------------------\u001b[0m",
      "\u001b[0;31mIndexError\u001b[0m                                Traceback (most recent call last)",
      "\u001b[1;32m/home/lucar/fwork/view_turncate.ipynb Cell 1\u001b[0m in \u001b[0;36m<cell line: 5>\u001b[0;34m()\u001b[0m\n\u001b[1;32m      <a href='vscode-notebook-cell://wsl%2Bubuntu-20.04/home/lucar/fwork/view_turncate.ipynb#W0sdnNjb2RlLXJlbW90ZQ%3D%3D?line=2'>3</a>\u001b[0m image \u001b[39m=\u001b[39m load_image([\u001b[39m'\u001b[39m\u001b[39mC0\u001b[39m\u001b[39m'\u001b[39m])[\u001b[39m'\u001b[39m\u001b[39mimage\u001b[39m\u001b[39m'\u001b[39m]\n\u001b[1;32m      <a href='vscode-notebook-cell://wsl%2Bubuntu-20.04/home/lucar/fwork/view_turncate.ipynb#W0sdnNjb2RlLXJlbW90ZQ%3D%3D?line=3'>4</a>\u001b[0m ori \u001b[39m=\u001b[39m image[\u001b[39m10\u001b[39m]\n\u001b[0;32m----> <a href='vscode-notebook-cell://wsl%2Bubuntu-20.04/home/lucar/fwork/view_turncate.ipynb#W0sdnNjb2RlLXJlbW90ZQ%3D%3D?line=4'>5</a>\u001b[0m aft \u001b[39m=\u001b[39m truncate(ori)\n\u001b[1;32m      <a href='vscode-notebook-cell://wsl%2Bubuntu-20.04/home/lucar/fwork/view_turncate.ipynb#W0sdnNjb2RlLXJlbW90ZQ%3D%3D?line=5'>6</a>\u001b[0m \u001b[39mimport\u001b[39;00m \u001b[39mmatplotlib\u001b[39;00m\u001b[39m.\u001b[39;00m\u001b[39mpyplot\u001b[39;00m \u001b[39mas\u001b[39;00m \u001b[39mplt\u001b[39;00m\n\u001b[1;32m      <a href='vscode-notebook-cell://wsl%2Bubuntu-20.04/home/lucar/fwork/view_turncate.ipynb#W0sdnNjb2RlLXJlbW90ZQ%3D%3D?line=6'>7</a>\u001b[0m plt\u001b[39m.\u001b[39msubplot(\u001b[39m1\u001b[39m,\u001b[39m2\u001b[39m,\u001b[39m1\u001b[39m)\n",
      "File \u001b[0;32m~/fwork/preprocess.py:185\u001b[0m, in \u001b[0;36mtruncate\u001b[0;34m(MRI)\u001b[0m\n\u001b[1;32m    180\u001b[0m MRI[np\u001b[39m.\u001b[39mwhere(MRI \u001b[39m>\u001b[39m\u001b[39m=\u001b[39m idex_max)] \u001b[39m=\u001b[39m idex_max\n\u001b[1;32m    181\u001b[0m \u001b[39m# MRI = MRI - (idex_max+idex_min)/2\u001b[39;00m\n\u001b[1;32m    182\u001b[0m \u001b[39m# MRI = MRI / ((idex_max-idex_min)/2)\u001b[39;00m\n\u001b[1;32m    183\u001b[0m \n\u001b[1;32m    184\u001b[0m \u001b[39m# norm\u001b[39;00m\n\u001b[0;32m--> 185\u001b[0m sig \u001b[39m=\u001b[39m MRI[\u001b[39m0\u001b[39;49m, \u001b[39m0\u001b[39;49m, \u001b[39m0\u001b[39;49m]\n\u001b[1;32m    186\u001b[0m MRI \u001b[39m=\u001b[39m np\u001b[39m.\u001b[39mwhere(MRI \u001b[39m!=\u001b[39m sig, MRI \u001b[39m-\u001b[39m np\u001b[39m.\u001b[39mmean(MRI[MRI \u001b[39m!=\u001b[39m sig]), \u001b[39m0\u001b[39m \u001b[39m*\u001b[39m MRI)\n\u001b[1;32m    187\u001b[0m MRI \u001b[39m=\u001b[39m np\u001b[39m.\u001b[39mwhere(MRI \u001b[39m!=\u001b[39m sig, MRI \u001b[39m/\u001b[39m\n\u001b[1;32m    188\u001b[0m                 np\u001b[39m.\u001b[39mstd(MRI[MRI \u001b[39m!=\u001b[39m sig] \u001b[39m+\u001b[39m \u001b[39m1e-7\u001b[39m), \u001b[39m0\u001b[39m \u001b[39m*\u001b[39m MRI)\n",
      "\u001b[0;31mIndexError\u001b[0m: too many indices for array: array is 2-dimensional, but 3 were indexed"
     ]
    }
   ],
   "source": [
    "from preprocess import truncate\n",
    "from datasets import load_image\n",
    "image = load_image(['C0'])['image']\n",
    "ori = image[10]\n",
    "aft = truncate(ori)\n",
    "import matplotlib.pyplot as plt\n",
    "plt.subplot(1,2,1)\n",
    "plt.imshow(ori)\n",
    "plt.subplot(1,2,2)\n",
    "plt.imshow(aft)"
   ]
  }
 ],
 "metadata": {
  "kernelspec": {
   "display_name": "Python 3.8.13 ('d2l')",
   "language": "python",
   "name": "python3"
  },
  "language_info": {
   "codemirror_mode": {
    "name": "ipython",
    "version": 3
   },
   "file_extension": ".py",
   "mimetype": "text/x-python",
   "name": "python",
   "nbconvert_exporter": "python",
   "pygments_lexer": "ipython3",
   "version": "3.8.13"
  },
  "orig_nbformat": 4,
  "vscode": {
   "interpreter": {
    "hash": "94355fb3ca2c023cd20685028b68c25ab54b218726b4fe441f3362a985e6f225"
   }
  }
 },
 "nbformat": 4,
 "nbformat_minor": 2
}
